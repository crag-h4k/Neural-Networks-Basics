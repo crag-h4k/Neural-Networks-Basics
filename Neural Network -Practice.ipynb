{
 "cells": [
  {
   "cell_type": "code",
   "execution_count": 39,
   "metadata": {},
   "outputs": [],
   "source": [
    "#neural network basics\n",
    "import numpy as np\n"
   ]
  },
  {
   "cell_type": "code",
   "execution_count": 40,
   "metadata": {},
   "outputs": [],
   "source": [
    "#sigmoid function here - run at every neuron in network when data \n",
    "#is inputted\n",
    "def nonlin(x, deriv=False):\n",
    "    if (deriv==True):\n",
    "        return x*(1-x)\n",
    "    \n",
    "    return 1/(1+np.exp(-x))\n",
    "\n",
    "#input and output matrices\n",
    "x = np.array([[0,0,1],\n",
    "              [0,1,1],\n",
    "              [1,0,1],\n",
    "              [1,1,1]])\n",
    "\n",
    "y = np.array([[0],\n",
    "              [1],\n",
    "              [1],\n",
    "              [0]])\n",
    "\n"
   ]
  },
  {
   "cell_type": "code",
   "execution_count": 41,
   "metadata": {},
   "outputs": [],
   "source": [
    "#same starting point for all random numbers \n",
    "np.random.seed(1)\n",
    "\n",
    "#synpases -connection between neurons' in each layer\n",
    "syn0 = 2*np.random.random((3,4)) - 1\n",
    "syn1 = 2*np.random.random((4,1)) - 1"
   ]
  },
  {
   "cell_type": "code",
   "execution_count": 42,
   "metadata": {},
   "outputs": [
    {
     "name": "stdout",
     "output_type": "stream",
     "text": [
      "Error:0.4964100319027255\n",
      "Error:0.49999041995127536\n",
      "Error:0.49999041995127536\n",
      "Error:0.49999041995127536\n",
      "Error:0.49999041995127547\n",
      "Error:0.4999904199512754\n"
     ]
    }
   ],
   "source": [
    "for j in xrange(60000):\n",
    "    #first layer\n",
    "    l0 = x\n",
    "    #second layer\n",
    "    #DOT product = matrix multiplation between each layer and its synapse\n",
    "    #1st prediction\n",
    "    l1 = nonlin(np.dot(l0,syn0))\n",
    "    #2nd prediction\n",
    "    l2 = nonlin(np.dot(l1,syn1))\n",
    "    \n",
    "    #error rate here\n",
    "    l2_error = y - l2\n",
    "    #\n",
    "    if(j %10000) == 0:\n",
    "        print \"Error:\" + str(np.mean(np.abs(l2_error)))\n",
    "    \n",
    "    # deriv here, reduce error rate\n",
    "    l2_delta = l2_error+nonlin(l2,deriv=True)\n",
    "    # back propogation here,how much layer one contributed to error\n",
    "    #in layer 2\n",
    "    l1_error = l2_delta.dot(syn1.T)\n",
    "    # deriv here, reduce error rate\n",
    "    l1_delta = l1_error+nonlin(l1,deriv=True)\n",
    "    \n",
    "    #gradient descent -- update weights\n",
    "    \n",
    "    syn1 += l1.T.dot(l2_delta)\n",
    "    syn0 += l0.T.dot(l1_delta)"
   ]
  },
  {
   "cell_type": "code",
   "execution_count": 43,
   "metadata": {},
   "outputs": [
    {
     "name": "stdout",
     "output_type": "stream",
     "text": [
      "Output after training\n",
      "[[0.69522485]\n",
      " [0.65253042]\n",
      " [0.65253042]\n",
      " [0.60938593]]\n"
     ]
    }
   ],
   "source": [
    "print \"Output after training\"\n",
    "print l2"
   ]
  },
  {
   "cell_type": "code",
   "execution_count": null,
   "metadata": {},
   "outputs": [],
   "source": []
  }
 ],
 "metadata": {
  "kernelspec": {
   "display_name": "Python 2",
   "language": "python",
   "name": "python2"
  },
  "language_info": {
   "codemirror_mode": {
    "name": "ipython",
    "version": 2
   },
   "file_extension": ".py",
   "mimetype": "text/x-python",
   "name": "python",
   "nbconvert_exporter": "python",
   "pygments_lexer": "ipython2",
   "version": "2.7.14"
  }
 },
 "nbformat": 4,
 "nbformat_minor": 2
}
